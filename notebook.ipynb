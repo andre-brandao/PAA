{
 "cells": [
  {
   "cell_type": "code",
   "execution_count": 1,
   "id": "initial_id",
   "metadata": {
    "collapsed": true,
    "ExecuteTime": {
     "end_time": "2023-11-07T02:28:55.805194678Z",
     "start_time": "2023-11-07T02:28:55.795375688Z"
    }
   },
   "outputs": [],
   "source": [
    "import array\n",
    "\n",
    "import time\n",
    "from typing import List, Union\n",
    "\n",
    "\n",
    "def subset_sum_bruteforce(S:List[int], K:int) -> list[int] | None:\n",
    "    n = len(S)\n",
    "\n",
    "    # Gera todas as combinações de subconjuntos\n",
    "    for i in range(1, 2**n):\n",
    "        subset = [S[j] for j in range(n) if (i >> j) & 1]\n",
    "\n",
    "        # Verifica se a soma do subconjunto é igual a K\n",
    "        if sum(subset) == K:\n",
    "            return subset\n",
    "\n",
    "    return None\n",
    "\n",
    "def subset_sum_backtracking(S:List[int], K:int) -> list[int] | None:\n",
    "    def backtrack(start, current_subset, current_sum):\n",
    "        if current_sum == K:\n",
    "            return current_subset\n",
    "        if current_sum > K or start >= len(S):\n",
    "            return None\n",
    "\n",
    "        for i in range(start, len(S)):\n",
    "            new_subset = current_subset + [S[i]]\n",
    "            new_sum = current_sum + S[i]\n",
    "\n",
    "            result = backtrack(i+1, new_subset, new_sum)\n",
    "            if result is not None:\n",
    "                return result\n",
    "\n",
    "        return None\n",
    "\n",
    "    return backtrack(0, [], 0)\n"
   ]
  },
  {
   "cell_type": "code",
   "execution_count": 2,
   "outputs": [],
   "source": [
    "import random\n",
    "\n",
    "test_data = [\n",
    "    ([1, 2, 3, 4, 5], 10),\n",
    "    ([3, 7, 2, 8, 4], 15),\n",
    "\n",
    "    (random.sample(range(1, 100), 10), 50),\n",
    "    (random.sample(range(1, 101), 100), 100),\n",
    "    (random.sample(range(1, 1001), 1000), 150)\n",
    "]\n"
   ],
   "metadata": {
    "collapsed": false,
    "ExecuteTime": {
     "end_time": "2023-11-07T02:28:55.806028702Z",
     "start_time": "2023-11-07T02:28:55.804228030Z"
    }
   },
   "id": "67f24eb5a78d2785"
  },
  {
   "cell_type": "code",
   "execution_count": 3,
   "outputs": [],
   "source": [
    "from timeout_decorator import timeout\n",
    "\n",
    "@timeout(5)\n",
    "def run_bruteforce(S, K):\n",
    "    return subset_sum_bruteforce(S, K)\n",
    "\n",
    "\n",
    "@timeout(5)\n",
    "def run_backtracking(S, K):\n",
    "    return subset_sum_backtracking(S, K)\n"
   ],
   "metadata": {
    "collapsed": false,
    "ExecuteTime": {
     "end_time": "2023-11-07T02:28:55.806321727Z",
     "start_time": "2023-11-07T02:28:55.804726597Z"
    }
   },
   "id": "4a5d48f32da1ebf1"
  },
  {
   "cell_type": "code",
   "execution_count": 4,
   "outputs": [],
   "source": [
    "def test_compare_both(S, K):\n",
    "    result_bruteforce = None\n",
    "    result_backtracking = None\n",
    "    elapsed_time_backtracking = 0\n",
    "    elapsed_time_bruteforce = 0\n",
    "\n",
    "    try:\n",
    "        start_time_backtracking = time.time()\n",
    "        result_backtracking = run_backtracking(S, K)\n",
    "        elapsed_time_backtracking = time.time() - start_time_backtracking\n",
    "    except TimeoutError:\n",
    "        print('Backtracking TimedOut')\n",
    "\n",
    "    try:\n",
    "        start_time_bruteforce = time.time()\n",
    "        result_bruteforce = run_bruteforce(S, K)\n",
    "        elapsed_time_bruteforce = time.time() - start_time_bruteforce\n",
    "    except TimeoutError:\n",
    "        print('BruteForce TimedOut')\n",
    "\n",
    "    print(f'\\n\\nK={K} S={S}')\n",
    "    print(f'time backtracking = {elapsed_time_backtracking}')\n",
    "    print(f'result backtracking = {result_backtracking}')\n",
    "    print(f'time bruteforce   = {elapsed_time_bruteforce}')\n",
    "    print(f'result bruteforce = {result_bruteforce}')\n",
    "    print(f'dif = {elapsed_time_bruteforce - elapsed_time_backtracking}')\n",
    "\n"
   ],
   "metadata": {
    "collapsed": false,
    "ExecuteTime": {
     "end_time": "2023-11-07T02:28:55.806534799Z",
     "start_time": "2023-11-07T02:28:55.805084933Z"
    }
   },
   "id": "b3956bf242a319f5"
  },
  {
   "cell_type": "code",
   "execution_count": 5,
   "outputs": [
    {
     "name": "stdout",
     "output_type": "stream",
     "text": [
      "\n",
      "\n",
      "K=10 S=[1, 2, 3, 4, 5]\n",
      "time backtracking = 6.604194641113281e-05\n",
      "result backtracking = [1, 2, 3, 4]\n",
      "time bruteforce   = 4.4345855712890625e-05\n",
      "result bruteforce = [1, 2, 3, 4]\n",
      "dif = -2.1696090698242188e-05\n",
      "\n",
      "\n",
      "K=15 S=[3, 7, 2, 8, 4]\n",
      "time backtracking = 3.62396240234375e-05\n",
      "result backtracking = [3, 8, 4]\n",
      "time bruteforce   = 2.9087066650390625e-05\n",
      "result bruteforce = [7, 8]\n",
      "dif = -7.152557373046875e-06\n",
      "\n",
      "\n",
      "K=50 S=[42, 9, 1, 34, 97, 87, 58, 60, 67, 92]\n",
      "time backtracking = 5.698204040527344e-05\n",
      "result backtracking = None\n",
      "time bruteforce   = 0.0017337799072265625\n",
      "result bruteforce = None\n",
      "dif = 0.001676797866821289\n",
      "\n",
      "\n",
      "K=100 S=[40, 10, 60, 57, 45, 14, 6, 36, 58, 96, 38, 4, 100, 33, 15, 80, 86, 67, 51, 98, 30, 84, 95, 69, 77, 63, 43, 17, 25, 53, 59, 91, 62, 78, 26, 94, 37, 7, 64, 90, 39, 68, 13, 66, 71, 1, 23, 70, 35, 2, 29, 89, 9, 81, 97, 74, 5, 19, 32, 11, 61, 56, 99, 46, 27, 52, 93, 88, 44, 50, 20, 31, 12, 72, 54, 22, 24, 18, 65, 76, 8, 28, 79, 85, 47, 87, 42, 16, 55, 3, 75, 41, 49, 21, 92, 73, 48, 83, 82, 34]\n",
      "time backtracking = 5.173683166503906e-05\n",
      "result backtracking = [40, 10, 45, 4, 1]\n",
      "time bruteforce   = 5.698204040527344e-05\n",
      "result bruteforce = [40, 60]\n",
      "dif = 5.245208740234375e-06\n"
     ]
    },
    {
     "ename": "TimeoutError",
     "evalue": "'Timed Out'",
     "output_type": "error",
     "traceback": [
      "\u001B[0;31m---------------------------------------------------------------------------\u001B[0m",
      "\u001B[0;31mTimeoutError\u001B[0m                              Traceback (most recent call last)",
      "Cell \u001B[0;32mIn[5], line 3\u001B[0m\n\u001B[1;32m      1\u001B[0m \u001B[38;5;66;03m# execute test_compare_both with test data\u001B[39;00m\n\u001B[1;32m      2\u001B[0m \u001B[38;5;28;01mfor\u001B[39;00m S, K \u001B[38;5;129;01min\u001B[39;00m test_data:\n\u001B[0;32m----> 3\u001B[0m     \u001B[43mtest_compare_both\u001B[49m\u001B[43m(\u001B[49m\u001B[43mS\u001B[49m\u001B[43m,\u001B[49m\u001B[43m \u001B[49m\u001B[43mK\u001B[49m\u001B[43m)\u001B[49m\n",
      "Cell \u001B[0;32mIn[4], line 16\u001B[0m, in \u001B[0;36mtest_compare_both\u001B[0;34m(S, K)\u001B[0m\n\u001B[1;32m     14\u001B[0m \u001B[38;5;28;01mtry\u001B[39;00m:\n\u001B[1;32m     15\u001B[0m     start_time_bruteforce \u001B[38;5;241m=\u001B[39m time\u001B[38;5;241m.\u001B[39mtime()\n\u001B[0;32m---> 16\u001B[0m     result_bruteforce \u001B[38;5;241m=\u001B[39m \u001B[43mrun_bruteforce\u001B[49m\u001B[43m(\u001B[49m\u001B[43mS\u001B[49m\u001B[43m,\u001B[49m\u001B[43m \u001B[49m\u001B[43mK\u001B[49m\u001B[43m)\u001B[49m\n\u001B[1;32m     17\u001B[0m     elapsed_time_bruteforce \u001B[38;5;241m=\u001B[39m time\u001B[38;5;241m.\u001B[39mtime() \u001B[38;5;241m-\u001B[39m start_time_bruteforce\n\u001B[1;32m     18\u001B[0m \u001B[38;5;28;01mexcept\u001B[39;00m \u001B[38;5;167;01mTimeoutError\u001B[39;00m:\n",
      "File \u001B[0;32m~/Documents/FACULDADE/2023-2/PAA/Sum of SUbsets/venv/lib/python3.12/site-packages/timeout_decorator/timeout_decorator.py:82\u001B[0m, in \u001B[0;36mtimeout.<locals>.decorate.<locals>.new_function\u001B[0;34m(*args, **kwargs)\u001B[0m\n\u001B[1;32m     79\u001B[0m     \u001B[38;5;28;01mreturn\u001B[39;00m function(\u001B[38;5;241m*\u001B[39margs, \u001B[38;5;241m*\u001B[39m\u001B[38;5;241m*\u001B[39mkwargs)\n\u001B[1;32m     81\u001B[0m \u001B[38;5;28;01mtry\u001B[39;00m:\n\u001B[0;32m---> 82\u001B[0m     \u001B[38;5;28;01mreturn\u001B[39;00m \u001B[43mfunction\u001B[49m\u001B[43m(\u001B[49m\u001B[38;5;241;43m*\u001B[39;49m\u001B[43margs\u001B[49m\u001B[43m,\u001B[49m\u001B[43m \u001B[49m\u001B[38;5;241;43m*\u001B[39;49m\u001B[38;5;241;43m*\u001B[39;49m\u001B[43mkwargs\u001B[49m\u001B[43m)\u001B[49m\n\u001B[1;32m     83\u001B[0m \u001B[38;5;28;01mfinally\u001B[39;00m:\n\u001B[1;32m     84\u001B[0m     \u001B[38;5;28;01mif\u001B[39;00m new_seconds:\n",
      "Cell \u001B[0;32mIn[3], line 5\u001B[0m, in \u001B[0;36mrun_bruteforce\u001B[0;34m(S, K)\u001B[0m\n\u001B[1;32m      3\u001B[0m \u001B[38;5;129m@timeout\u001B[39m(\u001B[38;5;241m5\u001B[39m)\n\u001B[1;32m      4\u001B[0m \u001B[38;5;28;01mdef\u001B[39;00m \u001B[38;5;21mrun_bruteforce\u001B[39m(S, K):\n\u001B[0;32m----> 5\u001B[0m     \u001B[38;5;28;01mreturn\u001B[39;00m \u001B[43msubset_sum_bruteforce\u001B[49m\u001B[43m(\u001B[49m\u001B[43mS\u001B[49m\u001B[43m,\u001B[49m\u001B[43m \u001B[49m\u001B[43mK\u001B[49m\u001B[43m)\u001B[49m\n",
      "Cell \u001B[0;32mIn[1], line 12\u001B[0m, in \u001B[0;36msubset_sum_bruteforce\u001B[0;34m(S, K)\u001B[0m\n\u001B[1;32m     10\u001B[0m \u001B[38;5;66;03m# Gera todas as combinações de subconjuntos\u001B[39;00m\n\u001B[1;32m     11\u001B[0m \u001B[38;5;28;01mfor\u001B[39;00m i \u001B[38;5;129;01min\u001B[39;00m \u001B[38;5;28mrange\u001B[39m(\u001B[38;5;241m1\u001B[39m, \u001B[38;5;241m2\u001B[39m\u001B[38;5;241m*\u001B[39m\u001B[38;5;241m*\u001B[39mn):\n\u001B[0;32m---> 12\u001B[0m     subset \u001B[38;5;241m=\u001B[39m [S[j] \u001B[38;5;28;01mfor\u001B[39;00m j \u001B[38;5;129;01min\u001B[39;00m \u001B[38;5;28mrange\u001B[39m(n) \u001B[38;5;28;01mif\u001B[39;00m (i \u001B[38;5;241m>>\u001B[39m j) \u001B[38;5;241m&\u001B[39m \u001B[38;5;241m1\u001B[39m]\n\u001B[1;32m     14\u001B[0m     \u001B[38;5;66;03m# Verifica se a soma do subconjunto é igual a K\u001B[39;00m\n\u001B[1;32m     15\u001B[0m     \u001B[38;5;28;01mif\u001B[39;00m \u001B[38;5;28msum\u001B[39m(subset) \u001B[38;5;241m==\u001B[39m K:\n",
      "File \u001B[0;32m~/Documents/FACULDADE/2023-2/PAA/Sum of SUbsets/venv/lib/python3.12/site-packages/timeout_decorator/timeout_decorator.py:69\u001B[0m, in \u001B[0;36mtimeout.<locals>.decorate.<locals>.handler\u001B[0;34m(signum, frame)\u001B[0m\n\u001B[1;32m     68\u001B[0m \u001B[38;5;28;01mdef\u001B[39;00m \u001B[38;5;21mhandler\u001B[39m(signum, frame):\n\u001B[0;32m---> 69\u001B[0m     \u001B[43m_raise_exception\u001B[49m\u001B[43m(\u001B[49m\u001B[43mtimeout_exception\u001B[49m\u001B[43m,\u001B[49m\u001B[43m \u001B[49m\u001B[43mexception_message\u001B[49m\u001B[43m)\u001B[49m\n",
      "File \u001B[0;32m~/Documents/FACULDADE/2023-2/PAA/Sum of SUbsets/venv/lib/python3.12/site-packages/timeout_decorator/timeout_decorator.py:45\u001B[0m, in \u001B[0;36m_raise_exception\u001B[0;34m(exception, exception_message)\u001B[0m\n\u001B[1;32m     39\u001B[0m \u001B[38;5;250m\u001B[39m\u001B[38;5;124;03m\"\"\" This function checks if a exception message is given.\u001B[39;00m\n\u001B[1;32m     40\u001B[0m \n\u001B[1;32m     41\u001B[0m \u001B[38;5;124;03mIf there is no exception message, the default behaviour is maintained.\u001B[39;00m\n\u001B[1;32m     42\u001B[0m \u001B[38;5;124;03mIf there is an exception message, the message is passed to the exception with the 'value' keyword.\u001B[39;00m\n\u001B[1;32m     43\u001B[0m \u001B[38;5;124;03m\"\"\"\u001B[39;00m\n\u001B[1;32m     44\u001B[0m \u001B[38;5;28;01mif\u001B[39;00m exception_message \u001B[38;5;129;01mis\u001B[39;00m \u001B[38;5;28;01mNone\u001B[39;00m:\n\u001B[0;32m---> 45\u001B[0m     \u001B[38;5;28;01mraise\u001B[39;00m exception()\n\u001B[1;32m     46\u001B[0m \u001B[38;5;28;01melse\u001B[39;00m:\n\u001B[1;32m     47\u001B[0m     \u001B[38;5;28;01mraise\u001B[39;00m exception(exception_message)\n",
      "\u001B[0;31mTimeoutError\u001B[0m: 'Timed Out'"
     ]
    }
   ],
   "source": [
    "# execute test_compare_both with test data\n",
    "for S, K in test_data:\n",
    "    test_compare_both(S, K)\n",
    "    "
   ],
   "metadata": {
    "collapsed": false,
    "ExecuteTime": {
     "end_time": "2023-11-07T02:29:01.047353821Z",
     "start_time": "2023-11-07T02:28:55.834983509Z"
    }
   },
   "id": "91c6ccc2148536af"
  }
 ],
 "metadata": {
  "kernelspec": {
   "display_name": "Python 3",
   "language": "python",
   "name": "python3"
  },
  "language_info": {
   "codemirror_mode": {
    "name": "ipython",
    "version": 2
   },
   "file_extension": ".py",
   "mimetype": "text/x-python",
   "name": "python",
   "nbconvert_exporter": "python",
   "pygments_lexer": "ipython2",
   "version": "2.7.6"
  }
 },
 "nbformat": 4,
 "nbformat_minor": 5
}
